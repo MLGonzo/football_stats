{
 "cells": [
  {
   "cell_type": "code",
   "execution_count": 1,
   "id": "813fbcd5-a6e0-42e4-874b-1b129f6184a8",
   "metadata": {},
   "outputs": [],
   "source": [
    "# this notebook allows you to predict football games using the Dixon-Coles algorithm\n",
    "\n",
    "import pandas as pd\n",
    "import numpy as np\n",
    "from scipy.stats import skellam\n",
    "from bettools import (\n",
    "    get_data,\n",
    "    generate_seasons,\n",
    "    calculate_poisson_match_outcomes,\n",
    "    calculate_ev_from_odds,\n",
    "    kelly_criterion,\n",
    ")\n",
    "import warnings\n",
    "from dixon_coles import (\n",
    "    solve_parameters_decay,\n",
    "    get_1x2_probs,\n",
    "    dixon_coles_simulate_match,\n",
    "    make_betting_prediction,\n",
    ")\n",
    "\n",
    "# Suppress RuntimeWarnings\n",
    "warnings.filterwarnings(\"ignore\", category=RuntimeWarning)\n",
    "\n",
    "pd.set_option(\"display.max_columns\", None)\n",
    "pd.set_option(\"display.width\", None)\n",
    "pd.options.mode.chained_assignment = None"
   ]
  },
  {
   "cell_type": "code",
   "execution_count": 2,
   "id": "2496f880-10e3-4994-b17e-0b8175afc8e8",
   "metadata": {},
   "outputs": [],
   "source": [
    "# getting data using the bettools library\n",
    "\n",
    "leagues = [\"E3\"]\n",
    "\n",
    "season_list = generate_seasons(2023, 2024)\n",
    "\n",
    "df_ls = get_data(season_list, leagues, additional_cols=[\"HS\", \"AS\", \"FTR\"])\n",
    "\n",
    "main_df = pd.concat(df_ls)\n",
    "\n",
    "main_df = main_df[-500:]\n",
    "\n",
    "main_df.reset_index(inplace=True, drop=True)\n",
    "\n",
    "main_df[\"Date\"] = pd.to_datetime(main_df[\"Date\"], format=\"%d/%m/%y\")\n",
    "main_df[\"time_diff\"] = (max(main_df[\"Date\"]) - main_df[\"Date\"]).dt.days\n",
    "main_df = main_df[[\"HomeTeam\", \"AwayTeam\", \"FTHG\", \"FTAG\", \"FTR\", \"time_diff\"]]"
   ]
  },
  {
   "cell_type": "code",
   "execution_count": 3,
   "id": "31233f9f-7f9e-489f-a71c-30620ae34b07",
   "metadata": {},
   "outputs": [
    {
     "name": "stdout",
     "output_type": "stream",
     "text": [
      "Optimization terminated successfully    (Exit mode 0)\n",
      "            Current function value: 1067.4446360500235\n",
      "            Iterations: 61\n",
      "            Function evaluations: 3205\n",
      "            Gradient evaluations: 61\n"
     ]
    }
   ],
   "source": [
    "params = solve_parameters_decay(main_df, xi=0.00325)"
   ]
  },
  {
   "cell_type": "code",
   "execution_count": 4,
   "id": "d2bb8083-06dd-49ee-9db9-c5fedff52ca7",
   "metadata": {},
   "outputs": [
    {
     "data": {
      "text/plain": [
       "('Home', 0.482887104396088)"
      ]
     },
     "execution_count": 4,
     "metadata": {},
     "output_type": "execute_result"
    }
   ],
   "source": [
    "make_betting_prediction(\n",
    "    home_odds=3.2,\n",
    "    draw_odds=3.6,\n",
    "    away_odds=3,\n",
    "    params=params,\n",
    "    home_team=\"Walsall\",\n",
    "    away_team=\"Bradford\",\n",
    "    bankroll=100,\n",
    "    kelly_fraction=0.05,\n",
    ")"
   ]
  }
 ],
 "metadata": {
  "kernelspec": {
   "display_name": "Python 3 (ipykernel)",
   "language": "python",
   "name": "python3"
  },
  "language_info": {
   "codemirror_mode": {
    "name": "ipython",
    "version": 3
   },
   "file_extension": ".py",
   "mimetype": "text/x-python",
   "name": "python",
   "nbconvert_exporter": "python",
   "pygments_lexer": "ipython3",
   "version": "3.11.7"
  }
 },
 "nbformat": 4,
 "nbformat_minor": 5
}
