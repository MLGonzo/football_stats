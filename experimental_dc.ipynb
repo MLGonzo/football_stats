{
 "cells": [
  {
   "cell_type": "code",
   "execution_count": 1,
   "id": "813fbcd5-a6e0-42e4-874b-1b129f6184a8",
   "metadata": {},
   "outputs": [],
   "source": [
    "import pandas as pd\n",
    "import matplotlib.pyplot as plt\n",
    "import numpy as np\n",
    "import seaborn as sns\n",
    "from scipy.stats import skellam\n",
    "from bettools import (\n",
    "    get_data,\n",
    "    generate_seasons,\n",
    "    calculate_poisson_match_outcomes,\n",
    "    calculate_ev_from_odds,\n",
    "    kelly_criterion,\n",
    ")\n",
    "import statsmodels.api as sm\n",
    "import statsmodels.formula.api as smf\n",
    "import warnings\n",
    "from dixon_coles import (\n",
    "    solve_parameters_decay,\n",
    "    get_1x2_probs,\n",
    "    dixon_coles_simulate_match,\n",
    ")\n",
    "\n",
    "# Suppress RuntimeWarnings\n",
    "warnings.filterwarnings(\"ignore\", category=RuntimeWarning)\n",
    "\n",
    "pd.set_option(\"display.max_columns\", None)\n",
    "pd.set_option(\"display.width\", None)\n",
    "pd.options.mode.chained_assignment = None"
   ]
  },
  {
   "cell_type": "code",
   "execution_count": 2,
   "id": "2496f880-10e3-4994-b17e-0b8175afc8e8",
   "metadata": {},
   "outputs": [],
   "source": [
    "leagues = [\"E3\"]\n",
    "\n",
    "season_list = generate_seasons(2023, 2024)\n",
    "\n",
    "df_ls = get_data(season_list, leagues, additional_cols=[\"HS\", \"AS\", \"FTR\"])\n",
    "\n",
    "main_df = pd.concat(df_ls)\n",
    "\n",
    "main_df = main_df[-500:]\n",
    "\n",
    "main_df.reset_index(inplace=True, drop=True)\n",
    "\n",
    "main_df[\"Date\"] = pd.to_datetime(main_df[\"Date\"], format=\"%d/%m/%y\")\n",
    "main_df[\"time_diff\"] = (max(main_df[\"Date\"]) - main_df[\"Date\"]).dt.days\n",
    "main_df = main_df[[\"HomeTeam\", \"AwayTeam\", \"FTHG\", \"FTAG\", \"FTR\", \"time_diff\"]]"
   ]
  },
  {
   "cell_type": "code",
   "execution_count": 3,
   "id": "31233f9f-7f9e-489f-a71c-30620ae34b07",
   "metadata": {},
   "outputs": [
    {
     "name": "stdout",
     "output_type": "stream",
     "text": [
      "Optimization terminated successfully    (Exit mode 0)\n",
      "            Current function value: 1058.909108635088\n",
      "            Iterations: 41\n",
      "            Function evaluations: 2154\n",
      "            Gradient evaluations: 41\n"
     ]
    }
   ],
   "source": [
    "params = solve_parameters_decay(main_df, xi=0.00325)"
   ]
  },
  {
   "cell_type": "code",
   "execution_count": 7,
   "id": "d2bb8083-06dd-49ee-9db9-c5fedff52ca7",
   "metadata": {},
   "outputs": [
    {
     "data": {
      "text/plain": [
       "('Home', 0.8269579154991229)"
      ]
     },
     "execution_count": 7,
     "metadata": {},
     "output_type": "execute_result"
    }
   ],
   "source": [
    "def make_betting_prediction(\n",
    "    home_odds, draw_odds, away_odds, params, home_team, away_team, bankroll\n",
    "):\n",
    "    predicted_probs = get_1x2_probs(\n",
    "        dixon_coles_simulate_match(params, home_team, away_team, max_goals=10)\n",
    "    )\n",
    "    home_ev = calculate_ev_from_odds(home_odds, predicted_probs[\"H\"])\n",
    "    away_ev = calculate_ev_from_odds(away_odds, predicted_probs[\"A\"])\n",
    "    draw_ev = calculate_ev_from_odds(draw_odds, predicted_probs[\"D\"])\n",
    "    max_ev = max([home_ev, away_ev, draw_ev])\n",
    "    if max_ev == home_ev:\n",
    "        bet_amount = kelly_criterion(\n",
    "            predicted_probs[\"H\"], home_odds, bankroll, kelly_fraction=0.05\n",
    "        )\n",
    "        bet_selection = \"Home\"\n",
    "    if max_ev == away_ev:\n",
    "        bet_amount = kelly_criterion(\n",
    "            predicted_probs[\"A\"], away_odds, bankroll, kelly_fraction=0.05\n",
    "        )\n",
    "        bet_selection = \"Away\"\n",
    "    elif max_ev == draw_ev:\n",
    "        bet_amount = kelly_criterion(\n",
    "            predicted_probs[\"D\"], draw_odds, bankroll, kelly_fraction=0.05\n",
    "        )\n",
    "        bet_selection = \"Draw\"\n",
    "    return bet_selection, bet_amount\n",
    "\n",
    "\n",
    "make_betting_prediction(3.2, 3.6, 3, params, \"Walsall\", \"Bradford\", 110)"
   ]
  },
  {
   "cell_type": "code",
   "execution_count": null,
   "id": "a4e5e3e5-6c18-4b41-9d10-dfb7bf3f288d",
   "metadata": {},
   "outputs": [],
   "source": [
    "leagues = [\"E0\"]\n",
    "\n",
    "season_list = generate_seasons(2014, 2024)\n",
    "\n",
    "df_ls = get_data(season_list, leagues)\n",
    "\n",
    "main_df = pd.concat(df_ls)"
   ]
  },
  {
   "cell_type": "code",
   "execution_count": null,
   "id": "ea6de05a-eb32-4766-9e51-4641bbcf162e",
   "metadata": {},
   "outputs": [],
   "source": [
    "main_df[\"Date\"] = pd.to_datetime(main_df[\"Date\"])\n",
    "main_df = main_df.sort_values(\"Date\")\n",
    "main_df.set_index(\"Date\", inplace=True)"
   ]
  },
  {
   "cell_type": "code",
   "execution_count": null,
   "id": "4cbca2c1-8f36-400c-b3c1-98c8048221a1",
   "metadata": {
    "scrolled": true
   },
   "outputs": [],
   "source": [
    "def walk_forward_validation(data, initial_train_size, test_size, num_iterations):\n",
    "    total_rows = len(data)\n",
    "\n",
    "    train_start = 0\n",
    "    train_end = initial_train_size\n",
    "    test_end = train_end + test_size\n",
    "\n",
    "    results = []\n",
    "    iteration = 0  # To track the number of iterations\n",
    "    while test_end <= total_rows and iteration < num_iterations:\n",
    "        # Splitting the data\n",
    "        train_data = data.iloc[train_start:train_end]\n",
    "        test_data = data.iloc[train_end:test_end]\n",
    "\n",
    "        # Calculating time difference from the end of the training set\n",
    "        max_train_date = train_data.index.max()\n",
    "        train_data[\"time_diff\"] = (max_train_date - train_data.index).days\n",
    "\n",
    "        # Selecting columns (adjust as necessary)\n",
    "        train_data = train_data[[\"HomeTeam\", \"AwayTeam\", \"FTHG\", \"FTAG\", \"time_diff\"]]\n",
    "\n",
    "        successful_fit = False\n",
    "        attempts = 0\n",
    "        while (\n",
    "            not successful_fit and attempts < 5\n",
    "        ):  # Try fitting parameters up to 2 times\n",
    "            try:\n",
    "                params = solve_parameters_decay(train_data, xi=0.00325)\n",
    "                # Insert your prediction and evaluation logic here, using `params`\n",
    "                # For each row in test_data, calculate predictions and append to test_data\n",
    "                test_data = test_data.reset_index()\n",
    "                for i in range(len(test_data)):\n",
    "                    home_team = test_data.loc[i][\"HomeTeam\"]\n",
    "                    away_team = test_data.loc[i][\"AwayTeam\"]\n",
    "                    probs_1x2 = get_1x2_probs(\n",
    "                        dixon_coles_simulate_match(\n",
    "                            params, home_team, away_team, max_goals=10\n",
    "                        )\n",
    "                    )\n",
    "                    test_data.loc[i, \"home_win_prob\"] = probs_1x2[\"H\"]\n",
    "                    test_data.loc[i, \"away_win_prob\"] = probs_1x2[\"A\"]\n",
    "                    test_data.loc[i, \"draw_win_prob\"] = probs_1x2[\"D\"]\n",
    "                results.append(test_data)\n",
    "                successful_fit = True\n",
    "            except Exception as e:\n",
    "                # If parameter fitting fails, add more data to the training set and try again\n",
    "                print(\n",
    "                    f\"Parameter fitting failed on attempt {attempts + 1}: {e}. Trying with a larger training set.\"\n",
    "                )\n",
    "                train_end += test_size  # Expanding the training set window\n",
    "                if train_end + test_size > total_rows:\n",
    "                    print(\n",
    "                        \"Not enough data to expand the training set and perform another test. Stopping.\"\n",
    "                    )\n",
    "                    return results\n",
    "                train_data = data.iloc[train_start:train_end]\n",
    "                train_data[\"time_diff\"] = (max_train_date - train_data.index).days\n",
    "                train_data = train_data[\n",
    "                    [\"HomeTeam\", \"AwayTeam\", \"FTHG\", \"FTAG\", \"time_diff\"]\n",
    "                ]\n",
    "                attempts += 1\n",
    "        if successful_fit:\n",
    "            # Move the window forward\n",
    "            train_end = test_end\n",
    "            test_end += test_size\n",
    "            iteration += 1  # Increment the iteration count\n",
    "    return results\n",
    "\n",
    "\n",
    "res = walk_forward_validation(main_df, 500, 10, 200)"
   ]
  },
  {
   "cell_type": "code",
   "execution_count": null,
   "id": "6d14bcc8-817b-4187-8bd5-2087411954fa",
   "metadata": {},
   "outputs": [],
   "source": []
  }
 ],
 "metadata": {
  "kernelspec": {
   "display_name": "Python 3 (ipykernel)",
   "language": "python",
   "name": "python3"
  },
  "language_info": {
   "codemirror_mode": {
    "name": "ipython",
    "version": 3
   },
   "file_extension": ".py",
   "mimetype": "text/x-python",
   "name": "python",
   "nbconvert_exporter": "python",
   "pygments_lexer": "ipython3",
   "version": "3.11.7"
  }
 },
 "nbformat": 4,
 "nbformat_minor": 5
}
