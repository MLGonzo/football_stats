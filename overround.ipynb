{
 "cells": [
  {
   "cell_type": "code",
   "execution_count": 1,
   "id": "561184c3-36fa-4c8d-9196-5c355341de54",
   "metadata": {},
   "outputs": [],
   "source": [
    "import numpy as np\n",
    "\n",
    "def calculate_overround(odds_list):\n",
    "    # Convert each odd in the list to implied probability\n",
    "    implied_probabilities = [1 / odd for odd in odds_list]\n",
    "    # Sum up all the implied probabilities\n",
    "    total_implied_probability = sum(implied_probabilities)\n",
    "    # Calculate overround\n",
    "    overround = (total_implied_probability - 1) * 100\n",
    "    return overround"
   ]
  },
  {
   "cell_type": "code",
   "execution_count": 2,
   "id": "8ef3da75-36bc-4d35-a437-e163eef6b0a8",
   "metadata": {},
   "outputs": [],
   "source": [
    "odds_pinnacle = [5.2, 4.95, 1.571]\n",
    "odds_888 = [5.5, 4.5, 1.533]\n",
    "odds_bfex = [5.8, 5.1, 1.57]"
   ]
  },
  {
   "cell_type": "code",
   "execution_count": 3,
   "id": "24e73d92-49d1-41cb-98c3-b3dbe3c8915e",
   "metadata": {},
   "outputs": [
    {
     "data": {
      "text/plain": [
       "3.0865131756284025"
      ]
     },
     "execution_count": 3,
     "metadata": {},
     "output_type": "execute_result"
    }
   ],
   "source": [
    "calculate_overround(odds_pinnacle)"
   ]
  },
  {
   "cell_type": "code",
   "execution_count": 4,
   "id": "6a907259-460e-4dc2-9e1c-0e457af86c23",
   "metadata": {},
   "outputs": [
    {
     "data": {
      "text/plain": [
       "5.635612484927566"
      ]
     },
     "execution_count": 4,
     "metadata": {},
     "output_type": "execute_result"
    }
   ],
   "source": [
    "calculate_overround(odds_888)"
   ]
  },
  {
   "cell_type": "code",
   "execution_count": 5,
   "id": "999b363a-5591-4c1d-9f43-fba4fed0adde",
   "metadata": {},
   "outputs": [
    {
     "data": {
      "text/plain": [
       "0.5434899635232915"
      ]
     },
     "execution_count": 5,
     "metadata": {},
     "output_type": "execute_result"
    }
   ],
   "source": [
    "calculate_overround(odds_bfex)"
   ]
  },
  {
   "cell_type": "code",
   "execution_count": 6,
   "id": "563ffaf7-1f3f-4852-8052-957f033e24c9",
   "metadata": {},
   "outputs": [
    {
     "data": {
      "text/plain": [
       "1.6199587911931435"
      ]
     },
     "execution_count": 6,
     "metadata": {},
     "output_type": "execute_result"
    }
   ],
   "source": [
    "def calculate_exchange_overround(odds_list, commission_rate):\n",
    "    odds_minus_comission = []\n",
    "    for odd in odds_list:\n",
    "        profit = odd - 1\n",
    "        comm_profit = profit * (1 - commission_rate)\n",
    "        revised_odd = comm_profit + 1\n",
    "        odds_minus_comission.append(revised_odd)\n",
    "    # Convert each odd in the list to implied probability\n",
    "    implied_probabilities = [1 / odd for odd in odds_minus_comission]\n",
    "    # Sum up all the adjusted implied probabilities\n",
    "    total_adjusted_implied_probability = sum(implied_probabilities)\n",
    "    # Calculate overround with commission\n",
    "    overround = (total_adjusted_implied_probability - 1) * 100\n",
    "    return overround\n",
    "\n",
    "commission = 0.02  # Commission rate in percent\n",
    "calculate_exchange_overround(odds_bfex, commission)"
   ]
  },
  {
   "cell_type": "code",
   "execution_count": 52,
   "id": "4f399036-f841-4e80-b2f3-b3a255f73031",
   "metadata": {},
   "outputs": [],
   "source": [
    "import numpy as np\n",
    "from scipy.optimize import minimize\n",
    "\n",
    "def find_true_probabilities_equal(odds):\n",
    "    # Convert odds to implied probabilities\n",
    "    probabilities = [1/o for o in odds]\n",
    "    # Calculate the total implied probability\n",
    "    total_probability = sum(probabilities)\n",
    "    # Calculate the overround\n",
    "    overround = total_probability - 1\n",
    "    # Calculate the adjustment factor for each odd\n",
    "    adjustment_factor = overround / len(odds)\n",
    "    # Adjust each implied probability\n",
    "    adjusted_probabilities = [(1/o) - adjustment_factor for o in odds]\n",
    "    return np.array(adjusted_probabilities)\n",
    "\n",
    "def find_true_probabilities_power(odds):\n",
    "    # Convert odds to implied probabilities\n",
    "    probabilities = np.array([1/o for o in odds])\n",
    "    # Define the objective function to minimize\n",
    "    def objective(k):\n",
    "        adj_probs = probabilities**k\n",
    "        return (1 - np.sum(adj_probs))**2\n",
    "    # Initial guess for k\n",
    "    initial_k = [1.0]\n",
    "    # Bounds for k, ensuring k is not zero\n",
    "    bounds = [(0.001, None)]\n",
    "    # Minimize the objective function\n",
    "    result = minimize(objective, initial_k)\n",
    "    # Calculate the true probabilities using the optimized k\n",
    "    adjusted_true_probabilities = probabilities ** (result.x[0])\n",
    "    return adjusted_true_probabilities\n",
    "\n",
    "# Example usage:\n",
    "odds_888 = [5.5, 4.5, 1.533]"
   ]
  },
  {
   "cell_type": "code",
   "execution_count": 55,
   "id": "0e938336-ad99-4bec-8afa-14471fc11a2a",
   "metadata": {},
   "outputs": [
    {
     "data": {
      "text/plain": [
       "array([0.16303281, 0.20343685, 0.63353035])"
      ]
     },
     "execution_count": 55,
     "metadata": {},
     "output_type": "execute_result"
    }
   ],
   "source": [
    "find_true_probabilities_equal(odds_888)"
   ]
  },
  {
   "cell_type": "code",
   "execution_count": 56,
   "id": "a66b8cf3-f22f-4419-86cf-1c11fb8edbb5",
   "metadata": {},
   "outputs": [
    {
     "data": {
      "text/plain": [
       "array([0.16316278, 0.20197876, 0.63485585])"
      ]
     },
     "execution_count": 56,
     "metadata": {},
     "output_type": "execute_result"
    }
   ],
   "source": [
    "find_true_probabilities_power(odds_888)"
   ]
  },
  {
   "cell_type": "code",
   "execution_count": null,
   "id": "ab6d6ae9-0be8-4b09-9e5f-4e27b5859e24",
   "metadata": {},
   "outputs": [],
   "source": []
  }
 ],
 "metadata": {
  "kernelspec": {
   "display_name": "Python 3 (ipykernel)",
   "language": "python",
   "name": "python3"
  },
  "language_info": {
   "codemirror_mode": {
    "name": "ipython",
    "version": 3
   },
   "file_extension": ".py",
   "mimetype": "text/x-python",
   "name": "python",
   "nbconvert_exporter": "python",
   "pygments_lexer": "ipython3",
   "version": "3.11.7"
  }
 },
 "nbformat": 4,
 "nbformat_minor": 5
}
