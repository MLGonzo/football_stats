{
 "cells": [
  {
   "cell_type": "code",
   "execution_count": 108,
   "id": "ce740534-401f-4bf1-b54a-11b00e85a10a",
   "metadata": {},
   "outputs": [],
   "source": [
    "from bettools import get_data, generate_seasons, calculate_poisson_match_outcomes, calculate_ev_from_odds, find_best_fit_goals\n",
    "import pandas as pd\n",
    "import numpy as np\n",
    "from sklearn.linear_model import LinearRegression\n",
    "from sklearn.metrics import mean_squared_error, r2_score\n",
    "import statsmodels.api as sm\n",
    "\n",
    "pd.set_option('display.max_columns', None)\n",
    "pd.set_option('display.width', None)\n",
    "pd.options.mode.chained_assignment = None"
   ]
  },
  {
   "cell_type": "code",
   "execution_count": 109,
   "id": "3a6492b8-3aa0-4223-9ab1-f7e1e138077c",
   "metadata": {},
   "outputs": [],
   "source": [
    "# leagues = ['E0','E1','E2','E3','SC0','SC1','SC2','D1','D2','I1','I2','SP1','SP2','F1','F2','N1','B1','P1','T1','G1']\n",
    "\n",
    "leagues = ['E0']\n",
    "\n",
    "season_list = generate_seasons(2016, 2024)\n",
    "\n",
    "df_ls = get_data(season_list, leagues, additional_cols=['HS','AS','HC','AC'])"
   ]
  },
  {
   "cell_type": "code",
   "execution_count": 110,
   "id": "2f540f0f-6ae9-4f37-b24f-e3995a9c4041",
   "metadata": {},
   "outputs": [],
   "source": [
    "main_df = pd.concat(df_ls)\n",
    "\n",
    "home_games = main_df[['Date', 'HomeTeam', 'FTHG', 'HS', 'HC']].rename(columns={'HomeTeam': 'Team', 'FTHG': 'Goals', 'HS': 'Shots', 'HC': 'Corners'})\n",
    "\n",
    "away_games = main_df[['Date', 'AwayTeam', 'FTAG', 'AS', 'AC']].rename(columns={'AwayTeam': 'Team', 'FTAG': 'Goals', 'AS': 'Shots', 'AC': 'Corners'})\n",
    "\n",
    "all_games = pd.concat([home_games, away_games], ignore_index=True)\n",
    "\n",
    "all_games.sort_values(['Team', 'Date'], inplace=True)\n",
    "\n",
    "all_games['RollingMeanGoals'] = all_games.groupby('Team')['Goals'].transform(lambda x: x.shift().rolling(window=10).mean())\n",
    "all_games['RollingMeanShots'] = all_games.groupby('Team')['Shots'].transform(lambda x: x.shift().rolling(window=10).mean())\n",
    "all_games['RollingMeanCorners'] = all_games.groupby('Team')['Corners'].transform(lambda x: x.shift().rolling(window=25).mean())\n",
    "\n",
    "main_df = main_df.merge(all_games[['Date', 'Team', 'RollingMeanGoals', 'RollingMeanShots','RollingMeanCorners']], left_on=['Date', 'HomeTeam'], right_on=['Date', 'Team'], how='left').rename(columns={'RollingMeanGoals': 'RollingMeanHomeGoals', 'RollingMeanShots': 'RollingMeanHomeShots', 'RollingMeanCorners': 'RollingMeanHomeCorners'}).drop('Team', axis=1)\n",
    "\n",
    "main_df = main_df.merge(all_games[['Date', 'Team', 'RollingMeanGoals', 'RollingMeanShots','RollingMeanCorners']], left_on=['Date', 'AwayTeam'], right_on=['Date', 'Team'], how='left').rename(columns={'RollingMeanGoals': 'RollingMeanAwayGoals', 'RollingMeanShots': 'RollingMeanAwayShots', 'RollingMeanCorners':'RollingMeanAwayCorners'}).drop('Team', axis=1)\n",
    "\n",
    "main_df = main_df.dropna()\n",
    "\n",
    "main_df.reset_index(inplace=True, drop=True)"
   ]
  },
  {
   "cell_type": "code",
   "execution_count": 111,
   "id": "d2cc54d5-e27e-4aec-8565-6ee7fffa5538",
   "metadata": {},
   "outputs": [],
   "source": [
    "# Function to adjust for longshot bias\n",
    "def adjust_for_longshot_bias(row):\n",
    "    # Convert odds to initial probabilities\n",
    "    initial_probs = np.array([1 / row['PSH'], 1 / row['PSD'], 1 / row['PSA']])\n",
    "    \n",
    "    # Calculate total initial probability (including overround)\n",
    "    total_initial_prob = sum(initial_probs)\n",
    "    \n",
    "    # A simple approach: more weighting to longer odds (less likely outcomes)\n",
    "    weights = initial_probs / total_initial_prob  # Use initial probabilities as weights\n",
    "    adjusted_probs = initial_probs * (weights / np.sum(weights))\n",
    "    \n",
    "    # Normalize adjusted probabilities to ensure they sum to 1\n",
    "    adjusted_probs /= np.sum(adjusted_probs)\n",
    "    \n",
    "    return pd.Series(adjusted_probs, index=['PinnacleProbHome', 'PinnacleProbDraw', 'PinnacleProbAway'])\n",
    "\n",
    "# Calculate expected goals based on adjusted probabilities\n",
    "def calculate_expected_goals_from_adjusted_probs(row):\n",
    "    home_goals, away_goals = find_best_fit_goals(row['PinnacleProbHome'], row['PinnacleProbDraw'], row['PinnacleProbAway'])\n",
    "    return pd.Series([home_goals, away_goals])\n",
    "\n",
    "main_df[['PinnacleProbHome', 'PinnacleProbDraw', 'PinnacleProbAway']] = main_df.apply(adjust_for_longshot_bias, axis=1)\n",
    "\n",
    "main_df[['HomeExpectedGoals', 'AwayExpectedGoals']] = main_df.apply(calculate_expected_goals_from_adjusted_probs, axis=1)"
   ]
  },
  {
   "cell_type": "code",
   "execution_count": 113,
   "id": "f79b0a0d-3ac7-462c-8560-8c86d6fc4ad6",
   "metadata": {},
   "outputs": [],
   "source": [
    "total_rows = len(main_df)\n",
    "split_point = int(total_rows * 0.8)\n",
    "\n",
    "train_df = main_df.iloc[:split_point]\n",
    "test_df = main_df.iloc[split_point:]"
   ]
  },
  {
   "cell_type": "code",
   "execution_count": 114,
   "id": "48371bfb-9ef1-49c6-b95d-0b3254fd7c97",
   "metadata": {},
   "outputs": [],
   "source": [
    "# For home predictions\n",
    "X_home_train = train_df[['RollingMeanHomeGoals', 'RollingMeanHomeShots', 'HomeExpectedGoals']]\n",
    "y_home_train = train_df['FTHG']\n",
    "\n",
    "X_home_test = test_df[['RollingMeanHomeGoals', 'RollingMeanHomeShots', 'HomeExpectedGoals']]\n",
    "y_home_test = test_df['FTHG']\n",
    "\n",
    "# For away predictions\n",
    "X_away_train = train_df[['RollingMeanAwayGoals', 'RollingMeanAwayShots', 'AwayExpectedGoals']]\n",
    "y_away_train = train_df['FTAG']\n",
    "\n",
    "X_away_test = test_df[['RollingMeanAwayGoals', 'RollingMeanAwayShots', 'AwayExpectedGoals']]\n",
    "y_away_test = test_df['FTAG']\n",
    "\n",
    "# Home model\n",
    "model_home = LinearRegression()\n",
    "model_home.fit(X_home_train, y_home_train)\n",
    "\n",
    "# Away model\n",
    "model_away = LinearRegression()\n",
    "model_away.fit(X_away_train, y_away_train)\n",
    "\n",
    "# Predictions for home and away\n",
    "y_home_pred = model_home.predict(X_home_test)\n",
    "y_away_pred = model_away.predict(X_away_test)"
   ]
  },
  {
   "cell_type": "code",
   "execution_count": 115,
   "id": "0b0eb9b4-69eb-49ab-affa-02c5be8e42ac",
   "metadata": {},
   "outputs": [
    {
     "name": "stdout",
     "output_type": "stream",
     "text": [
      "Home Model MSE: 1.5249922963349174\n",
      "Home Model R-squared: 0.13516292062302027\n",
      "Away Model MSE: 1.4144996700245271\n",
      "Away Model R-squared: 0.13309289112838374\n"
     ]
    }
   ],
   "source": [
    "# Evaluation for home model\n",
    "mse_home = mean_squared_error(y_home_test, y_home_pred)\n",
    "r2_home = r2_score(y_home_test, y_home_pred)\n",
    "\n",
    "# Evaluation for away model\n",
    "mse_away = mean_squared_error(y_away_test, y_away_pred)\n",
    "r2_away = r2_score(y_away_test, y_away_pred)\n",
    "\n",
    "print(\"Home Model MSE:\", mse_home)\n",
    "print(\"Home Model R-squared:\", r2_home)\n",
    "print(\"Away Model MSE:\", mse_away)\n",
    "print(\"Away Model R-squared:\", r2_away)"
   ]
  },
  {
   "cell_type": "code",
   "execution_count": 116,
   "id": "1defb15a-add5-494d-bd89-c99cb0f5fabe",
   "metadata": {},
   "outputs": [],
   "source": [
    "test_df['PredictedFTHG'] = y_home_pred\n",
    "test_df['PredictedFTAG'] = y_away_pred"
   ]
  },
  {
   "cell_type": "code",
   "execution_count": 117,
   "id": "8f06a0a1-62f5-4251-a3c7-7c782d5489f4",
   "metadata": {},
   "outputs": [],
   "source": [
    "results = test_df.apply(lambda x: calculate_poisson_match_outcomes(x['PredictedFTHG'], x['PredictedFTAG']), axis=1)\n",
    "\n",
    "test_df['home_win_prob'], test_df['draw_prob'], test_df['away_win_prob'] = zip(*results)"
   ]
  },
  {
   "cell_type": "code",
   "execution_count": 118,
   "id": "f893b31a-9b76-45d2-b97f-e61571dc289f",
   "metadata": {},
   "outputs": [
    {
     "data": {
      "text/plain": [
       "<Axes: title={'center': 'Home Betting at Best KO Odds'}>"
      ]
     },
     "execution_count": 118,
     "metadata": {},
     "output_type": "execute_result"
    },
    {
     "data": {
      "image/png": "[encoded data removed]",
      "text/plain": [
       "<Figure size 640x480 with 1 Axes>"
      ]
     },
     "metadata": {},
     "output_type": "display_data"
    }
   ],
   "source": [
    "test_df['home_ev'] = test_df.apply(lambda x: calculate_ev_from_odds(x['home_max_odds'], x['home_win_prob']), axis=1)\n",
    "test_df['away_ev'] = test_df.apply(lambda x: calculate_ev_from_odds(x['away_max_odds'], x['away_win_prob']), axis=1)\n",
    "# test_df['draw_ev'] = test_df.apply(lambda x: calculate_ev_from_odds(x['draw_max_odds'], x['draw_prob']), axis=1)\n",
    "\n",
    "HOME_MIN_THRESH = 0\n",
    "HOME_MAX_THRESH = 0.2\n",
    "\n",
    "home_bet_df = test_df[(test_df['home_ev']>HOME_MIN_THRESH)&(test_df['home_ev']<HOME_MAX_THRESH)]\n",
    "home_bet_df.reset_index(inplace=True, drop=True)\n",
    "home_bet_df['profit'] = np.where(home_bet_df['FTHG']>home_bet_df['FTAG'], home_bet_df['home_max_odds']-1, -1)\n",
    "home_bet_df['c_profit'] = home_bet_df['profit'].cumsum()\n",
    "home_bet_df['c_profit'].plot(title='Home Betting at Best KO Odds')"
   ]
  },
  {
   "cell_type": "code",
   "execution_count": 120,
   "id": "8dc55131-db6d-4353-b152-c982f2f4f13f",
   "metadata": {},
   "outputs": [
    {
     "data": {
      "text/plain": [
       "<Axes: >"
      ]
     },
     "execution_count": 120,
     "metadata": {},
     "output_type": "execute_result"
    },
    {
     "data": {
      "image/png": "[encoded data removed]",
      "text/plain": [
       "<Figure size 640x480 with 1 Axes>"
      ]
     },
     "metadata": {},
     "output_type": "display_data"
    }
   ],
   "source": [
    "AWAY_MIN_THRESH = 0\n",
    "AWAY_MAX_THRESH = 1\n",
    "\n",
    "away_bet_df = test_df[(test_df['away_ev']>AWAY_MIN_THRESH)&(test_df['away_ev']<AWAY_MAX_THRESH)]\n",
    "away_bet_df.reset_index(inplace=True, drop=True)\n",
    "away_bet_df['profit'] = np.where(away_bet_df['FTAG']>away_bet_df['FTHG'], away_bet_df['away_max_odds']-1, -1)\n",
    "away_bet_df['c_profit'] = away_bet_df['profit'].cumsum()\n",
    "away_bet_df['c_profit'].plot()"
   ]
  },
  {
   "cell_type": "code",
   "execution_count": null,
   "id": "f334b19a-f0e6-4f7b-a360-0d8eecc0e2bd",
   "metadata": {},
   "outputs": [],
   "source": [
    "## trying it with poisson regression - which is better suited to this\n",
    "\n",
    "# For home predictions - Poisson Regression\n",
    "X_home_train = train_df[['RollingMeanHomeGoals', 'RollingMeanHomeShots']]\n",
    "X_home_train = sm.add_constant(X_home_train)  # Adds a constant term to the predictor variables\n",
    "y_home_train = train_df['FTHG']\n",
    "\n",
    "X_home_test = test_df[['RollingMeanHomeGoals', 'RollingMeanHomeShots']]\n",
    "X_home_test = sm.add_constant(X_home_test)  # Also add constant to the test data\n",
    "\n",
    "# For away predictions - Poisson Regression\n",
    "X_away_train = train_df[['RollingMeanAwayGoals', 'RollingMeanAwayShots']]\n",
    "X_away_train = sm.add_constant(X_away_train)  # Adds a constant term to the predictor variables\n",
    "y_away_train = train_df['FTAG']\n",
    "\n",
    "X_away_test = test_df[['RollingMeanAwayGoals', 'RollingMeanAwayShots']]\n",
    "X_away_test = sm.add_constant(X_away_test)  # Also add constant to the test data\n",
    "\n",
    "# Fitting the Poisson regression model for home data\n",
    "model_home = sm.GLM(y_home_train, X_home_train, family=sm.families.Poisson()).fit()\n",
    "\n",
    "# Fitting the Poisson regression model for away data\n",
    "model_away = sm.GLM(y_away_train, X_away_train, family=sm.families.Poisson()).fit()\n",
    "\n",
    "# Predictions for home and away - note that predictions will be on the scale of the linear predictor\n",
    "# i.e., the log of the expected counts. To get expected counts, use np.exp() on predictions.\n",
    "y_home_pred = model_home.predict(X_home_test)\n",
    "y_home_pred_counts = np.exp(y_home_pred)  # Convert log predictions to expected counts\n",
    "\n",
    "y_away_pred = model_away.predict(X_away_test)\n",
    "y_away_pred_counts = np.exp(y_away_pred)  # Convert log predictions to expected counts"
   ]
  },
  {
   "cell_type": "code",
   "execution_count": null,
   "id": "ce0cd987-8ff2-452a-b3c5-7c06cb81165c",
   "metadata": {},
   "outputs": [],
   "source": [
    "test_df['PredictedFTHG'] = y_home_pred_counts\n",
    "test_df['PredictedFTAG'] = y_away_pred_counts"
   ]
  },
  {
   "cell_type": "code",
   "execution_count": null,
   "id": "21d664e6-a375-453d-bcd5-add03865d164",
   "metadata": {},
   "outputs": [],
   "source": [
    "results = test_df.apply(lambda x: calculate_poisson_match_outcomes(x['PredictedFTHG'], x['PredictedFTAG']), axis=1)\n",
    "\n",
    "test_df['home_win_prob'], test_df['draw_prob'], test_df['away_win_prob'] = zip(*results)"
   ]
  },
  {
   "cell_type": "code",
   "execution_count": null,
   "id": "6ddec7e5-e640-438c-a43f-a75467a45eee",
   "metadata": {},
   "outputs": [],
   "source": [
    "test_df['home_ev'] = test_df.apply(lambda x: calculate_ev_from_odds(x['home_max_odds'], x['home_win_prob']), axis=1)\n",
    "test_df['away_ev'] = test_df.apply(lambda x: calculate_ev_from_odds(x['away_max_odds'], x['away_win_prob']), axis=1)\n",
    "\n",
    "HOME_MIN_THRESH = 0.1\n",
    "HOME_MAX_THRESH = 0.4\n",
    "\n",
    "home_bet_df = test_df[(test_df['home_ev']>HOME_MIN_THRESH)&(test_df['home_ev']<HOME_MAX_THRESH)]\n",
    "home_bet_df.reset_index(inplace=True, drop=True)\n",
    "home_bet_df['profit'] = np.where(home_bet_df['FTHG']>home_bet_df['FTAG'], home_bet_df['home_max_odds']-1, -1)\n",
    "home_bet_df['c_profit'] = home_bet_df['profit'].cumsum()\n",
    "home_bet_df['c_profit'].plot(title='Home Betting at Best KO Odds')"
   ]
  },
  {
   "cell_type": "code",
   "execution_count": null,
   "id": "6c49deea-49b6-40ee-9d68-b44526e6e0b9",
   "metadata": {},
   "outputs": [],
   "source": [
    "AWAY_MIN_THRESH = 0.0\n",
    "AWAY_MAX_THRESH = 0.2\n",
    "\n",
    "away_bet_df = test_df[(test_df['away_ev']>AWAY_MIN_THRESH)&(test_df['away_ev']<AWAY_MAX_THRESH)]\n",
    "away_bet_df.reset_index(inplace=True, drop=True)\n",
    "away_bet_df['profit'] = np.where(away_bet_df['FTAG']>away_bet_df['FTHG'], away_bet_df['away_max_odds']-1, -1)\n",
    "away_bet_df['c_profit'] = away_bet_df['profit'].cumsum()\n",
    "away_bet_df['c_profit'].plot()"
   ]
  },
  {
   "cell_type": "code",
   "execution_count": null,
   "id": "a321c646-2cfb-421e-a00c-66634ced473f",
   "metadata": {},
   "outputs": [],
   "source": [
    "test_df.FTHG.mean()"
   ]
  },
  {
   "cell_type": "code",
   "execution_count": null,
   "id": "95822aaf-6771-421d-af37-b7c5ad9d0c3b",
   "metadata": {},
   "outputs": [],
   "source": [
    "test_df.PredictedFTHG.mean()"
   ]
  },
  {
   "cell_type": "code",
   "execution_count": null,
   "id": "cb872ba7-3d4f-4a57-a818-edbc6c4515b1",
   "metadata": {},
   "outputs": [],
   "source": [
    "pearson_resid = model_home.resid_pearson\n",
    "phi = np.sum(pearson_resid**2) / model_home.df_resid\n",
    "\n",
    "print(f\"Dispersion statistic (phi): {phi}\")"
   ]
  },
  {
   "cell_type": "code",
   "execution_count": null,
   "id": "844f3b4c-7eb6-4feb-a913-524532e0b706",
   "metadata": {},
   "outputs": [],
   "source": [
    "pearson_resid = model_away.resid_pearson\n",
    "phi = np.sum(pearson_resid**2) / model_away.df_resid\n",
    "\n",
    "print(f\"Dispersion statistic (phi): {phi}\")"
   ]
  },
  {
   "cell_type": "code",
   "execution_count": null,
   "id": "ed4b73d8-8883-424e-9fc2-89b78066db59",
   "metadata": {},
   "outputs": [],
   "source": [
    "import statsmodels.api as sm\n",
    "from statsmodels.discrete.count_model import ZeroInflatedPoisson, Poisson\n",
    "\n",
    "# Assuming X and y are your predictors and response variable, respectively\n",
    "# Fit a standard Poisson model\n",
    "model_poisson = Poisson(y_home_train, X_home_train).fit()\n",
    "\n",
    "# Fit a Zero-Inflated Poisson (ZIP) model\n",
    "model_zip = ZeroInflatedPoisson(y_home_train, X_home_train, exog_infl=X_home_train).fit(method='bfgs', maxiter=100000)\n",
    "\n",
    "# Compare AIC and BIC\n",
    "print(f\"Poisson AIC: {model_poisson.aic}, BIC: {model_poisson.bic}\")\n",
    "print(f\"ZIP AIC: {model_zip.aic}, BIC: {model_zip.bic}\")\n",
    "\n",
    "# You might also compare the log-likelihood\n",
    "print(f\"Poisson Log-Likelihood: {model_poisson.llf}\")\n",
    "print(f\"ZIP Log-Likelihood: {model_zip.llf}\")\n"
   ]
  },
  {
   "cell_type": "code",
   "execution_count": null,
   "id": "1d6ea9d7-b9e2-4c3b-b261-0b391b1d1a7c",
   "metadata": {},
   "outputs": [],
   "source": [
    "from sklearn.preprocessing import StandardScaler\n",
    "import statsmodels.api as sm\n",
    "\n",
    "# Initialize two separate scalers for home and away data\n",
    "scaler_home = StandardScaler()\n",
    "scaler_away = StandardScaler()\n",
    "\n",
    "# Prepare and scale the training data for home predictions\n",
    "X_home_train_raw = train_df[['RollingMeanHomeGoals', 'RollingMeanHomeShots']]\n",
    "X_home_train_scaled = scaler_home.fit_transform(X_home_train_raw)\n",
    "X_home_train_scaled = sm.add_constant(X_home_train_scaled)  # Add the constant term after scaling\n",
    "\n",
    "# Prepare and scale the training data for away predictions\n",
    "X_away_train_raw = train_df[['RollingMeanAwayGoals', 'RollingMeanAwayShots']]\n",
    "X_away_train_scaled = scaler_away.fit_transform(X_away_train_raw)\n",
    "X_away_train_scaled = sm.add_constant(X_away_train_scaled)  # Add the constant term after scaling\n",
    "\n",
    "# Scale the test data using the respective scalers\n",
    "X_home_test_raw = test_df[['RollingMeanHomeGoals', 'RollingMeanHomeShots']]\n",
    "X_home_test_scaled = scaler_home.transform(X_home_test_raw)\n",
    "X_home_test_scaled = sm.add_constant(X_home_test_scaled)  # Add the constant term after scaling\n",
    "\n",
    "X_away_test_raw = test_df[['RollingMeanAwayGoals', 'RollingMeanAwayShots']]\n",
    "X_away_test_scaled = scaler_away.transform(X_away_test_raw)\n",
    "X_away_test_scaled = sm.add_constant(X_away_test_scaled)  # Add the constant term after scaling\n",
    "\n",
    "# Fit the Poisson regression models using the scaled data\n",
    "model_home = sm.GLM(y_home_train, X_home_train_scaled, family=sm.families.Poisson()).fit()\n",
    "model_away = sm.GLM(y_away_train, X_away_train_scaled, family=sm.families.Poisson()).fit()\n",
    "\n",
    "# Make predictions using the scaled test data\n",
    "y_home_pred = model_home.predict(X_home_test_scaled)\n",
    "y_away_pred = model_away.predict(X_away_test_scaled)\n",
    "\n",
    "# Convert log predictions to expected counts\n",
    "y_home_pred_counts = np.exp(y_home_pred)\n",
    "y_away_pred_counts = np.exp(y_away_pred)"
   ]
  },
  {
   "cell_type": "code",
   "execution_count": null,
   "id": "f4287cb7-47a4-48ca-9e4d-e91f1ef58853",
   "metadata": {},
   "outputs": [],
   "source": [
    "y_home_pred_counts.mean()"
   ]
  }
 ],
 "metadata": {
  "kernelspec": {
   "display_name": "Python 3 (ipykernel)",
   "language": "python",
   "name": "python3"
  },
  "language_info": {
   "codemirror_mode": {
    "name": "ipython",
    "version": 3
   },
   "file_extension": ".py",
   "mimetype": "text/x-python",
   "name": "python",
   "nbconvert_exporter": "python",
   "pygments_lexer": "ipython3",
   "version": "3.11.7"
  }
 },
 "nbformat": 4,
 "nbformat_minor": 5
}
